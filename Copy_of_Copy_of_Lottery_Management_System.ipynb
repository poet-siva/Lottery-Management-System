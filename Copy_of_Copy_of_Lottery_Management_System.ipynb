{
  "nbformat": 4,
  "nbformat_minor": 0,
  "metadata": {
    "colab": {
      "name": "Copy of Copy of Lottery Management System.ipynb",
      "provenance": [],
      "authorship_tag": "ABX9TyNujKBU5+59pU/xHMW4yWZd",
      "include_colab_link": true
    },
    "kernelspec": {
      "name": "python3",
      "display_name": "Python 3"
    }
  },
  "cells": [
    {
      "cell_type": "markdown",
      "metadata": {
        "id": "view-in-github",
        "colab_type": "text"
      },
      "source": [
        "<a href=\"https://colab.research.google.com/github/poet-siva/Lottery-Management-System/blob/main/Copy_of_Copy_of_Lottery_Management_System.ipynb\" target=\"_parent\"><img src=\"https://colab.research.google.com/assets/colab-badge.svg\" alt=\"Open In Colab\"/></a>"
      ]
    },
    {
      "cell_type": "markdown",
      "metadata": {
        "id": "BSH0l4UP9AFL"
      },
      "source": [
        "#Building  a lottery system"
      ]
    },
    {
      "cell_type": "markdown",
      "metadata": {
        "id": "-sagR86l9c53"
      },
      "source": [
        "We take an input from 10 users\n",
        " \n",
        "Then we use the random person from the users list\n",
        " \n",
        "Then we modify to make it take indefinite input from the user."
      ]
    },
    {
      "cell_type": "code",
      "metadata": {
        "colab": {
          "base_uri": "https://localhost:8080/",
          "height": 375
        },
        "id": "YhoqVo5493Ww",
        "outputId": "dc26489d-25e1-4c7a-e944-45b23510d854"
      },
      "source": [
        "#Step 1 -- Collect 10 user Names\n",
        " \n",
        "user_list =[]\n",
        " \n",
        "for item in range(10):\n",
        "   print (item)\n",
        "   user_name = input (\"Enter the user name = \")\n",
        "   user_list.append(user_name)\n",
        " \n",
        "random.choice(user_list)"
      ],
      "execution_count": null,
      "outputs": [
        {
          "output_type": "stream",
          "text": [
            "0\n",
            "Enter the user name = Siva\n",
            "1\n",
            "Enter the user name = Sam\n",
            "2\n",
            "Enter the user name = Praveen\n",
            "3\n",
            "Enter the user name = Gowtham\n",
            "4\n",
            "Enter the user name = Muthaiyya\n",
            "5\n",
            "Enter the user name = Nandhu\n",
            "6\n",
            "Enter the user name = Pratap\n",
            "7\n",
            "Enter the user name = Kali\n",
            "8\n",
            "Enter the user name = Dani\n",
            "9\n",
            "Enter the user name = Gury\n"
          ],
          "name": "stdout"
        },
        {
          "output_type": "execute_result",
          "data": {
            "application/vnd.google.colaboratory.intrinsic+json": {
              "type": "string"
            },
            "text/plain": [
              "'Sam'"
            ]
          },
          "metadata": {
            "tags": []
          },
          "execution_count": 15
        }
      ]
    },
    {
      "cell_type": "code",
      "metadata": {
        "colab": {
          "base_uri": "https://localhost:8080/"
        },
        "id": "GD3MTicy_1JM",
        "outputId": "0a49ac4d-e20e-4068-dd75-e56f8128d4ce"
      },
      "source": [
        "range (20)"
      ],
      "execution_count": null,
      "outputs": [
        {
          "output_type": "execute_result",
          "data": {
            "text/plain": [
              "range(0, 20)"
            ]
          },
          "metadata": {
            "tags": []
          },
          "execution_count": 2
        }
      ]
    },
    {
      "cell_type": "code",
      "metadata": {
        "colab": {
          "base_uri": "https://localhost:8080/"
        },
        "id": "I6E_AU7H_4iP",
        "outputId": "14c8cdb4-e412-4d3e-865d-cb92a7850adf"
      },
      "source": [
        "list (range (20))"
      ],
      "execution_count": null,
      "outputs": [
        {
          "output_type": "execute_result",
          "data": {
            "text/plain": [
              "[0, 1, 2, 3, 4, 5, 6, 7, 8, 9, 10, 11, 12, 13, 14, 15, 16, 17, 18, 19]"
            ]
          },
          "metadata": {
            "tags": []
          },
          "execution_count": 4
        }
      ]
    },
    {
      "cell_type": "code",
      "metadata": {
        "colab": {
          "base_uri": "https://localhost:8080/"
        },
        "id": "qfcLu6Z-_-QN",
        "outputId": "39de2d69-7ce6-4132-b010-01583d757873"
      },
      "source": [
        "list= [1,2,3,4,5]\n",
        "for i in list:\n",
        "   print (i)"
      ],
      "execution_count": null,
      "outputs": [
        {
          "output_type": "stream",
          "text": [
            "1\n",
            "2\n",
            "3\n",
            "4\n",
            "5\n"
          ],
          "name": "stdout"
        }
      ]
    },
    {
      "cell_type": "code",
      "metadata": {
        "colab": {
          "base_uri": "https://localhost:8080/"
        },
        "id": "H-ts0f9nBZwd",
        "outputId": "1350f2b4-841f-45f9-ed57-d358492c257c"
      },
      "source": [
        "list= [\"Siva\", \"Sam\", \"Praveen\", \"Gowtham\"]\n",
        "for i in list:\n",
        "   print (i)"
      ],
      "execution_count": null,
      "outputs": [
        {
          "output_type": "stream",
          "text": [
            "Siva\n",
            "Sam\n",
            "Praveen\n",
            "Gowtham\n"
          ],
          "name": "stdout"
        }
      ]
    },
    {
      "cell_type": "code",
      "metadata": {
        "id": "1zHiIX0oBnIo"
      },
      "source": [
        "import random"
      ],
      "execution_count": null,
      "outputs": []
    },
    {
      "cell_type": "code",
      "metadata": {
        "colab": {
          "base_uri": "https://localhost:8080/",
          "height": 35
        },
        "id": "hL_UhL7jCOHx",
        "outputId": "1d0c59a5-aef8-4902-af32-951c7d1552cf"
      },
      "source": [
        "#Step 2--> \n",
        " \n",
        "random.choice(user_list)"
      ],
      "execution_count": null,
      "outputs": [
        {
          "output_type": "execute_result",
          "data": {
            "application/vnd.google.colaboratory.intrinsic+json": {
              "type": "string"
            },
            "text/plain": [
              "'Siva'"
            ]
          },
          "metadata": {
            "tags": []
          },
          "execution_count": 13
        }
      ]
    },
    {
      "cell_type": "code",
      "metadata": {
        "colab": {
          "base_uri": "https://localhost:8080/",
          "height": 375
        },
        "id": "fR33oiNlCdS3",
        "outputId": "af4bb736-b3a7-4c22-b877-16e4efc8bf7a"
      },
      "source": [
        "user_list =[]\n",
        " \n",
        "for item in range(10):\n",
        "   print (item)\n",
        "   user_name = input (\"Enter the user name = \")\n",
        "   user_list.append(user_name)\n",
        " \n",
        "random.choice(user_list)"
      ],
      "execution_count": null,
      "outputs": [
        {
          "output_type": "stream",
          "text": [
            "0\n",
            "Enter the user name = Siva \n",
            "1\n",
            "Enter the user name = Sam\n",
            "2\n",
            "Enter the user name = Muthaiyya\n",
            "3\n",
            "Enter the user name = Guru\n",
            "4\n",
            "Enter the user name = Pravin\n",
            "5\n",
            "Enter the user name = Gowtham\n",
            "6\n",
            "Enter the user name = Dani\n",
            "7\n",
            "Enter the user name = Nandhu\n",
            "8\n",
            "Enter the user name = Kali\n",
            "9\n",
            "Enter the user name = Pratap\n"
          ],
          "name": "stdout"
        },
        {
          "output_type": "execute_result",
          "data": {
            "application/vnd.google.colaboratory.intrinsic+json": {
              "type": "string"
            },
            "text/plain": [
              "'Muthaiyya'"
            ]
          },
          "metadata": {
            "tags": []
          },
          "execution_count": 17
        }
      ]
    },
    {
      "cell_type": "code",
      "metadata": {
        "colab": {
          "base_uri": "https://localhost:8080/",
          "height": 35
        },
        "id": "Nv-vW9DMEPaZ",
        "outputId": "bd29472b-a12d-4a90-b79b-29d543c5f446"
      },
      "source": [
        "random.choice(user_list)"
      ],
      "execution_count": null,
      "outputs": [
        {
          "output_type": "execute_result",
          "data": {
            "application/vnd.google.colaboratory.intrinsic+json": {
              "type": "string"
            },
            "text/plain": [
              "'Sam'"
            ]
          },
          "metadata": {
            "tags": []
          },
          "execution_count": 19
        }
      ]
    },
    {
      "cell_type": "code",
      "metadata": {
        "colab": {
          "base_uri": "https://localhost:8080/"
        },
        "id": "UrMlH-toEhYq",
        "outputId": "de9d6c8f-e2b8-41ad-8dbb-5c8096fbc191"
      },
      "source": [
        "#Step 3--> Let's make that In definite\n",
        " \n",
        "user_list =[]\n",
        " \n",
        "item = 0\n",
        "isYes = \"y\"\n",
        " \n",
        "while isYes == 'y':\n",
        "    item = item + 1\n",
        "    print (item)\n",
        "    user_name = input ( \"Enter the user name = \")\n",
        "    user_list.append(user_name)\n",
        "    isYes = input (\"Enter y/n\")"
      ],
      "execution_count": null,
      "outputs": [
        {
          "output_type": "stream",
          "text": [
            "1\n",
            "Enter the user name = Siva\n",
            "Enter y/ny\n",
            "2\n",
            "Enter the user name = Sam\n",
            "Enter y/ny\n",
            "3\n",
            "Enter the user name = Muthaiyya\n",
            "Enter y/ny\n",
            "4\n",
            "Enter the user name = Pravin\n",
            "Enter y/ny\n",
            "5\n",
            "Enter the user name = Gowtham\n",
            "Enter y/ny\n",
            "6\n",
            "Enter the user name = Thiayghu\n",
            "Enter y/ny\n",
            "7\n",
            "Enter the user name = Bhoopesh\n",
            "Enter y/ny\n",
            "8\n",
            "Enter the user name = Pratap\n",
            "Enter y/ny\n",
            "9\n",
            "Enter the user name = Nandhu\n",
            "Enter y/ny\n",
            "10\n",
            "Enter the user name = Kali\n",
            "Enter y/ny\n",
            "11\n",
            "Enter the user name = Sathya\n",
            "Enter y/ny\n",
            "12\n",
            "Enter the user name = Hariharan\n",
            "Enter y/ny\n",
            "13\n",
            "Enter the user name = Dani\n",
            "Enter y/ny\n",
            "14\n",
            "Enter the user name = Guru\n",
            "Enter y/ny\n",
            "15\n",
            "Enter the user name = Kallikudi\n",
            "Enter y/nSamson\n"
          ],
          "name": "stdout"
        }
      ]
    },
    {
      "cell_type": "code",
      "metadata": {
        "colab": {
          "base_uri": "https://localhost:8080/"
        },
        "id": "6X5s2YwZTglY",
        "outputId": "c994f29a-ee24-440e-988a-7671a3b8169a"
      },
      "source": [
        "len (user_list)"
      ],
      "execution_count": null,
      "outputs": [
        {
          "output_type": "execute_result",
          "data": {
            "text/plain": [
              "15"
            ]
          },
          "metadata": {
            "tags": []
          },
          "execution_count": 40
        }
      ]
    },
    {
      "cell_type": "code",
      "metadata": {
        "colab": {
          "base_uri": "https://localhost:8080/"
        },
        "id": "FlqP3MfYTs_9",
        "outputId": "2b074118-19cb-495c-e93f-e730d09b38f3"
      },
      "source": [
        "(user_list)"
      ],
      "execution_count": null,
      "outputs": [
        {
          "output_type": "execute_result",
          "data": {
            "text/plain": [
              "['Siva',\n",
              " 'Sam',\n",
              " 'Muthaiyya',\n",
              " 'Pravin',\n",
              " 'Gowtham',\n",
              " 'Thiayghu',\n",
              " 'Bhoopesh',\n",
              " 'Pratap',\n",
              " 'Nandhu',\n",
              " 'Kali',\n",
              " 'Sathya',\n",
              " 'Hariharan',\n",
              " 'Dani',\n",
              " 'Guru',\n",
              " 'Kallikudi']"
            ]
          },
          "metadata": {
            "tags": []
          },
          "execution_count": 41
        }
      ]
    },
    {
      "cell_type": "code",
      "metadata": {
        "id": "TJNoLaD5WFw4"
      },
      "source": [
        "import random"
      ],
      "execution_count": null,
      "outputs": []
    },
    {
      "cell_type": "code",
      "metadata": {
        "colab": {
          "base_uri": "https://localhost:8080/",
          "height": 35
        },
        "id": "5AhA1kZrWH8n",
        "outputId": "cfc68462-be80-42af-f1fd-cc99588dbcfd"
      },
      "source": [
        "random.choice(user_list)"
      ],
      "execution_count": null,
      "outputs": [
        {
          "output_type": "execute_result",
          "data": {
            "application/vnd.google.colaboratory.intrinsic+json": {
              "type": "string"
            },
            "text/plain": [
              "'Guru'"
            ]
          },
          "metadata": {
            "tags": []
          },
          "execution_count": 42
        }
      ]
    },
    {
      "cell_type": "code",
      "metadata": {
        "colab": {
          "base_uri": "https://localhost:8080/",
          "height": 35
        },
        "id": "FUVfYNZ9WTMo",
        "outputId": "2f0c45f0-bd2e-456b-b3e1-90a20762cb79"
      },
      "source": [
        "random.choice(user_list)"
      ],
      "execution_count": null,
      "outputs": [
        {
          "output_type": "execute_result",
          "data": {
            "application/vnd.google.colaboratory.intrinsic+json": {
              "type": "string"
            },
            "text/plain": [
              "'Sathya'"
            ]
          },
          "metadata": {
            "tags": []
          },
          "execution_count": 43
        }
      ]
    },
    {
      "cell_type": "code",
      "metadata": {
        "colab": {
          "base_uri": "https://localhost:8080/",
          "height": 35
        },
        "id": "KEMZ9aiFXRo6",
        "outputId": "8ace6c8f-80ff-4b64-c59a-df2d729a721c"
      },
      "source": [
        "random.choice(user_list)"
      ],
      "execution_count": null,
      "outputs": [
        {
          "output_type": "execute_result",
          "data": {
            "application/vnd.google.colaboratory.intrinsic+json": {
              "type": "string"
            },
            "text/plain": [
              "'Pratap'"
            ]
          },
          "metadata": {
            "tags": []
          },
          "execution_count": 44
        }
      ]
    },
    {
      "cell_type": "code",
      "metadata": {
        "colab": {
          "base_uri": "https://localhost:8080/",
          "height": 35
        },
        "id": "psYGi7pjXVih",
        "outputId": "cd6e2be8-1179-41d5-bc8e-7ada413c305f"
      },
      "source": [
        "random.choice(user_list)"
      ],
      "execution_count": null,
      "outputs": [
        {
          "output_type": "execute_result",
          "data": {
            "application/vnd.google.colaboratory.intrinsic+json": {
              "type": "string"
            },
            "text/plain": [
              "'Kallikudi'"
            ]
          },
          "metadata": {
            "tags": []
          },
          "execution_count": 45
        }
      ]
    }
  ]
}